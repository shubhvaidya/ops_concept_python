{
 "cells": [
  {
   "cell_type": "code",
   "execution_count": 4,
   "id": "d82605a2",
   "metadata": {},
   "outputs": [],
   "source": [
    "                class Students:\n",
    "    def __init__(self, student_name, age, grade):\n",
    "        self.student_name = student_name\n",
    "        self.age = age\n",
    "        self.grade = grade\n",
    "    def stu_Detail(self):\n",
    "        print(self.student_name,self.age,self.grade)\n",
    "\n",
    "\n",
    "abc = Students(\"shubham_vaidya\", \"18\", \"A+\")\n",
    "pqr = Students(\"javed_vaidya\", \"17\", \"A\")\n",
    "xyz= Students(\"janvi_vaidya\", \"16\",\"B\")"
   ]
  },
  {
   "cell_type": "code",
   "execution_count": 5,
   "id": "8b724fa8",
   "metadata": {},
   "outputs": [
    {
     "name": "stdout",
     "output_type": "stream",
     "text": [
      "shubham_vaidya 18 A+\n"
     ]
    }
   ],
   "source": [
    "abc.stu_Detail()"
   ]
  },
  {
   "cell_type": "code",
   "execution_count": 6,
   "id": "688dfe01",
   "metadata": {},
   "outputs": [
    {
     "data": {
      "text/plain": [
       "'18'"
      ]
     },
     "execution_count": 6,
     "metadata": {},
     "output_type": "execute_result"
    }
   ],
   "source": [
    "abc.age"
   ]
  },
  {
   "cell_type": "code",
   "execution_count": 7,
   "id": "960d1e4e",
   "metadata": {},
   "outputs": [
    {
     "data": {
      "text/plain": [
       "'A+'"
      ]
     },
     "execution_count": 7,
     "metadata": {},
     "output_type": "execute_result"
    }
   ],
   "source": [
    "abc.grade"
   ]
  },
  {
   "cell_type": "code",
   "execution_count": 10,
   "id": "67851533",
   "metadata": {},
   "outputs": [
    {
     "name": "stdout",
     "output_type": "stream",
     "text": [
      "javed_vaidya 17 A\n"
     ]
    }
   ],
   "source": [
    "pqr.stu_Detail()"
   ]
  },
  {
   "cell_type": "code",
   "execution_count": 11,
   "id": "4330f9f5",
   "metadata": {},
   "outputs": [
    {
     "data": {
      "text/plain": [
       "'janvi_vaidya'"
      ]
     },
     "execution_count": 11,
     "metadata": {},
     "output_type": "execute_result"
    }
   ],
   "source": [
    "xyz.student_name"
   ]
  },
  {
   "cell_type": "code",
   "execution_count": 13,
   "id": "e8867285",
   "metadata": {},
   "outputs": [
    {
     "name": "stdout",
     "output_type": "stream",
     "text": [
      "janvi_vaidya 16 B\n"
     ]
    }
   ],
   "source": [
    "xyz.stu_Detail()"
   ]
  },
  {
   "cell_type": "code",
   "execution_count": 1,
   "id": "bf144666",
   "metadata": {},
   "outputs": [],
   "source": [
    "class college :\n",
    "    def __init__(self, college_name, college_branch):\n",
    "        self.college_name = college_name\n",
    "        self.college_branch = college_branch\n",
    "    def detail_college(self):\n",
    "        print(self.college_name,self.college_branch)\n",
    "A1= college(\"jnv\",\"gondia\")"
   ]
  },
  {
   "cell_type": "code",
   "execution_count": 2,
   "id": "f0694786",
   "metadata": {},
   "outputs": [
    {
     "ename": "NameError",
     "evalue": "name 'detail_college' is not defined",
     "output_type": "error",
     "traceback": [
      "\u001b[1;31m---------------------------------------------------------------------------\u001b[0m",
      "\u001b[1;31mNameError\u001b[0m                                 Traceback (most recent call last)",
      "Cell \u001b[1;32mIn[2], line 1\u001b[0m\n\u001b[1;32m----> 1\u001b[0m detail_college\n",
      "\u001b[1;31mNameError\u001b[0m: name 'detail_college' is not defined"
     ]
    }
   ],
   "source": [
    "detail_college"
   ]
  },
  {
   "cell_type": "code",
   "execution_count": 4,
   "id": "d2e7f80f",
   "metadata": {},
   "outputs": [
    {
     "ename": "TypeError",
     "evalue": "'college' object is not callable",
     "output_type": "error",
     "traceback": [
      "\u001b[1;31m---------------------------------------------------------------------------\u001b[0m",
      "\u001b[1;31mTypeError\u001b[0m                                 Traceback (most recent call last)",
      "Cell \u001b[1;32mIn[4], line 1\u001b[0m\n\u001b[1;32m----> 1\u001b[0m A1()\n",
      "\u001b[1;31mTypeError\u001b[0m: 'college' object is not callable"
     ]
    }
   ],
   "source": [
    "A1()"
   ]
  },
  {
   "cell_type": "code",
   "execution_count": 6,
   "id": "909e5c57",
   "metadata": {},
   "outputs": [
    {
     "name": "stdout",
     "output_type": "stream",
     "text": [
      "jnv gondia\n"
     ]
    }
   ],
   "source": [
    "A1.detail_college()"
   ]
  },
  {
   "cell_type": "code",
   "execution_count": 7,
   "id": "4534fa07",
   "metadata": {},
   "outputs": [
    {
     "data": {
      "text/plain": [
       "'gondia'"
      ]
     },
     "execution_count": 7,
     "metadata": {},
     "output_type": "execute_result"
    }
   ],
   "source": [
    "A1.college_branch"
   ]
  },
  {
   "cell_type": "code",
   "execution_count": 8,
   "id": "2b61a45a",
   "metadata": {},
   "outputs": [
    {
     "data": {
      "text/plain": [
       "'jnv'"
      ]
     },
     "execution_count": 8,
     "metadata": {},
     "output_type": "execute_result"
    }
   ],
   "source": [
    "A1.college_name"
   ]
  },
  {
   "cell_type": "code",
   "execution_count": 43,
   "id": "323bd46c",
   "metadata": {},
   "outputs": [],
   "source": [
    "class parcing:\n",
    "    def __init__(self,a):\n",
    "        self.a= a \n",
    "    def getkeys(self):\n",
    "        if type(self.a)== dict:\n",
    "            return list(self.a.keys())\n",
    "    def getvalues(self):\n",
    "        if type(self.a)== dict:\n",
    "            return list(self.a.values())\n",
    "    def notdict(self):\n",
    "        if type(self.a)!= dict:\n",
    "            raise Exception(self.a,\"not dictinary\")\n",
    "        return 1"
   ]
  },
  {
   "cell_type": "code",
   "execution_count": 44,
   "id": "99a9ba0f",
   "metadata": {},
   "outputs": [],
   "source": [
    "a = parcing([1,4,5,2,85,6])"
   ]
  },
  {
   "cell_type": "code",
   "execution_count": 45,
   "id": "05c93a1a",
   "metadata": {},
   "outputs": [],
   "source": [
    "a.getkeys()"
   ]
  },
  {
   "cell_type": "code",
   "execution_count": 46,
   "id": "c966e9a9",
   "metadata": {},
   "outputs": [],
   "source": [
    "a.getvalues()"
   ]
  },
  {
   "cell_type": "code",
   "execution_count": 47,
   "id": "f7b68d64",
   "metadata": {
    "scrolled": true
   },
   "outputs": [
    {
     "ename": "Exception",
     "evalue": "([1, 4, 5, 2, 85, 6], 'not dictinary')",
     "output_type": "error",
     "traceback": [
      "\u001b[1;31m---------------------------------------------------------------------------\u001b[0m",
      "\u001b[1;31mException\u001b[0m                                 Traceback (most recent call last)",
      "Cell \u001b[1;32mIn[47], line 1\u001b[0m\n\u001b[1;32m----> 1\u001b[0m a\u001b[38;5;241m.\u001b[39mnotdict()\n",
      "Cell \u001b[1;32mIn[43], line 12\u001b[0m, in \u001b[0;36mparcing.notdict\u001b[1;34m(self)\u001b[0m\n\u001b[0;32m     10\u001b[0m \u001b[38;5;28;01mdef\u001b[39;00m \u001b[38;5;21mnotdict\u001b[39m(\u001b[38;5;28mself\u001b[39m):\n\u001b[0;32m     11\u001b[0m     \u001b[38;5;28;01mif\u001b[39;00m \u001b[38;5;28mtype\u001b[39m(\u001b[38;5;28mself\u001b[39m\u001b[38;5;241m.\u001b[39ma)\u001b[38;5;241m!=\u001b[39m \u001b[38;5;28mdict\u001b[39m:\n\u001b[1;32m---> 12\u001b[0m         \u001b[38;5;28;01mraise\u001b[39;00m \u001b[38;5;167;01mException\u001b[39;00m(\u001b[38;5;28mself\u001b[39m\u001b[38;5;241m.\u001b[39ma,\u001b[38;5;124m\"\u001b[39m\u001b[38;5;124mnot dictinary\u001b[39m\u001b[38;5;124m\"\u001b[39m)\n\u001b[0;32m     13\u001b[0m     \u001b[38;5;28;01mreturn\u001b[39;00m \u001b[38;5;241m1\u001b[39m\n",
      "\u001b[1;31mException\u001b[0m: ([1, 4, 5, 2, 85, 6], 'not dictinary')"
     ]
    }
   ],
   "source": [
    "a.notdict()"
   ]
  },
  {
   "cell_type": "code",
   "execution_count": 55,
   "id": "71808740",
   "metadata": {},
   "outputs": [],
   "source": [
    "f=open(\"mydict.py\",\"w\")"
   ]
  },
  {
   "cell_type": "code",
   "execution_count": 51,
   "id": "7c984639",
   "metadata": {},
   "outputs": [
    {
     "name": "stdout",
     "output_type": "stream",
     "text": [
      " Volume in drive C has no label.\n",
      " Volume Serial Number is 7408-FD97\n",
      "\n",
      " Directory of C:\\Users\\INTEGRAL COMPUTER\\Documents\n",
      "\n",
      "03-01-2024  09:40 AM    <DIR>          .\n",
      "03-01-2024  09:40 AM    <DIR>          ..\n",
      "24-12-2023  09:08 PM    <DIR>          .ipynb_checkpoints\n",
      "20-12-2023  12:01 PM    <DIR>          __pycache__\n",
      "21-09-2023  08:03 AM    <DIR>          Custom Office Templates\n",
      "17-12-2023  01:29 PM            31,315 functions.ipynb\n",
      "12-01-2023  11:30 PM    <DIR>          Inventor Server for AutoCAD\n",
      "08-12-2023  10:12 PM             5,940 list'.ipynb\n",
      "19-12-2023  08:16 PM            17,320 logging.ipynb\n",
      "20-12-2023  12:08 PM            15,494 module.ipynb\n",
      "20-12-2023  11:50 AM                 0 my_module\n",
      "20-12-2023  12:01 PM               213 my_module.py\n",
      "03-01-2024  09:37 AM                 0 mydict\n",
      "03-01-2024  09:40 AM                 0 mydict.py\n",
      "06-09-2023  08:14 PM    <DIR>          NFS Most Wanted\n",
      "03-01-2024  09:39 AM            11,343 opps_concept.ipynb\n",
      "10-12-2023  05:51 PM               589 programing.ipynb\n",
      "09-12-2023  09:23 PM         8,560,638 python basic.ipynb\n",
      "29-04-2023  11:24 AM    <DIR>          Python Scripts\n",
      "20-12-2023  12:43 AM                29 python_file.py\n",
      "20-12-2023  10:07 AM               163 shuvai.py\n",
      "20-12-2023  12:45 AM                31 test1.py\n",
      "02-12-2023  01:15 PM    <DIR>          Untitled Folder\n",
      "03-12-2023  11:21 PM             1,688 Untitled.ipynb\n",
      "11-12-2023  10:56 PM         8,585,006 Untitled1.ipynb\n",
      "14-12-2023  09:21 PM            12,492 Untitled2.ipynb\n",
      "15-12-2023  01:33 PM            14,301 Untitled3.ipynb\n",
      "15-12-2023  11:32 AM             4,128 Untitled4.ipynb\n",
      "19-12-2023  12:34 AM            21,497 Untitled5.ipynb\n",
      "21-12-2023  08:26 PM             3,467 Untitled6.ipynb\n",
      "24-12-2023  09:16 PM             1,956 Untitled7.ipynb\n",
      "              22 File(s)     17,287,610 bytes\n",
      "               9 Dir(s)  69,161,439,232 bytes free\n"
     ]
    }
   ],
   "source": [
    "ls"
   ]
  },
  {
   "cell_type": "code",
   "execution_count": 52,
   "id": "e69cc10c",
   "metadata": {},
   "outputs": [
    {
     "ename": "NameError",
     "evalue": "name 'close' is not defined",
     "output_type": "error",
     "traceback": [
      "\u001b[1;31m---------------------------------------------------------------------------\u001b[0m",
      "\u001b[1;31mNameError\u001b[0m                                 Traceback (most recent call last)",
      "Cell \u001b[1;32mIn[52], line 1\u001b[0m\n\u001b[1;32m----> 1\u001b[0m close\n",
      "\u001b[1;31mNameError\u001b[0m: name 'close' is not defined"
     ]
    }
   ],
   "source": [
    "close"
   ]
  },
  {
   "cell_type": "code",
   "execution_count": 53,
   "id": "f0bdf542",
   "metadata": {},
   "outputs": [
    {
     "ename": "NameError",
     "evalue": "name 'mydict' is not defined",
     "output_type": "error",
     "traceback": [
      "\u001b[1;31m---------------------------------------------------------------------------\u001b[0m",
      "\u001b[1;31mNameError\u001b[0m                                 Traceback (most recent call last)",
      "Cell \u001b[1;32mIn[53], line 1\u001b[0m\n\u001b[1;32m----> 1\u001b[0m mydict\u001b[38;5;241m.\u001b[39mpy\u001b[38;5;241m.\u001b[39mclose\n",
      "\u001b[1;31mNameError\u001b[0m: name 'mydict' is not defined"
     ]
    }
   ],
   "source": [
    "mydict.py.close"
   ]
  },
  {
   "cell_type": "code",
   "execution_count": 54,
   "id": "a49da596",
   "metadata": {},
   "outputs": [
    {
     "ename": "NameError",
     "evalue": "name 'mydict' is not defined",
     "output_type": "error",
     "traceback": [
      "\u001b[1;31m---------------------------------------------------------------------------\u001b[0m",
      "\u001b[1;31mNameError\u001b[0m                                 Traceback (most recent call last)",
      "Cell \u001b[1;32mIn[54], line 1\u001b[0m\n\u001b[1;32m----> 1\u001b[0m mydict\u001b[38;5;241m.\u001b[39mpy\n",
      "\u001b[1;31mNameError\u001b[0m: name 'mydict' is not defined"
     ]
    }
   ],
   "source": [
    "mydict.py"
   ]
  },
  {
   "cell_type": "code",
   "execution_count": 59,
   "id": "19e71b9c",
   "metadata": {},
   "outputs": [],
   "source": [
    "f.close()"
   ]
  },
  {
   "cell_type": "code",
   "execution_count": 58,
   "id": "6571baf8",
   "metadata": {},
   "outputs": [],
   "source": [
    "f.flush()"
   ]
  },
  {
   "cell_type": "code",
   "execution_count": 64,
   "id": "5da45649",
   "metadata": {},
   "outputs": [
    {
     "ename": "FileNotFoundError",
     "evalue": "[Errno 2] No such file or directory: 'mydict1w'",
     "output_type": "error",
     "traceback": [
      "\u001b[1;31m---------------------------------------------------------------------------\u001b[0m",
      "\u001b[1;31mFileNotFoundError\u001b[0m                         Traceback (most recent call last)",
      "Cell \u001b[1;32mIn[64], line 1\u001b[0m\n\u001b[1;32m----> 1\u001b[0m s\u001b[38;5;241m=\u001b[39m\u001b[38;5;28mopen\u001b[39m(\u001b[38;5;124m\"\u001b[39m\u001b[38;5;124mmydict1\u001b[39m\u001b[38;5;124m\"\u001b[39m \u001b[38;5;124m\"\u001b[39m\u001b[38;5;124mw\u001b[39m\u001b[38;5;124m\"\u001b[39m)\n",
      "File \u001b[1;32mC:\\anaconda\\Lib\\site-packages\\IPython\\core\\interactiveshell.py:286\u001b[0m, in \u001b[0;36m_modified_open\u001b[1;34m(file, *args, **kwargs)\u001b[0m\n\u001b[0;32m    279\u001b[0m \u001b[38;5;28;01mif\u001b[39;00m file \u001b[38;5;129;01min\u001b[39;00m {\u001b[38;5;241m0\u001b[39m, \u001b[38;5;241m1\u001b[39m, \u001b[38;5;241m2\u001b[39m}:\n\u001b[0;32m    280\u001b[0m     \u001b[38;5;28;01mraise\u001b[39;00m \u001b[38;5;167;01mValueError\u001b[39;00m(\n\u001b[0;32m    281\u001b[0m         \u001b[38;5;124mf\u001b[39m\u001b[38;5;124m\"\u001b[39m\u001b[38;5;124mIPython won\u001b[39m\u001b[38;5;124m'\u001b[39m\u001b[38;5;124mt let you open fd=\u001b[39m\u001b[38;5;132;01m{\u001b[39;00mfile\u001b[38;5;132;01m}\u001b[39;00m\u001b[38;5;124m by default \u001b[39m\u001b[38;5;124m\"\u001b[39m\n\u001b[0;32m    282\u001b[0m         \u001b[38;5;124m\"\u001b[39m\u001b[38;5;124mas it is likely to crash IPython. If you know what you are doing, \u001b[39m\u001b[38;5;124m\"\u001b[39m\n\u001b[0;32m    283\u001b[0m         \u001b[38;5;124m\"\u001b[39m\u001b[38;5;124myou can use builtins\u001b[39m\u001b[38;5;124m'\u001b[39m\u001b[38;5;124m open.\u001b[39m\u001b[38;5;124m\"\u001b[39m\n\u001b[0;32m    284\u001b[0m     )\n\u001b[1;32m--> 286\u001b[0m \u001b[38;5;28;01mreturn\u001b[39;00m io_open(file, \u001b[38;5;241m*\u001b[39margs, \u001b[38;5;241m*\u001b[39m\u001b[38;5;241m*\u001b[39mkwargs)\n",
      "\u001b[1;31mFileNotFoundError\u001b[0m: [Errno 2] No such file or directory: 'mydict1w'"
     ]
    }
   ],
   "source": [
    "s=open(\"mydict1\" \"w\")"
   ]
  },
  {
   "cell_type": "code",
   "execution_count": 66,
   "id": "c3789cd2",
   "metadata": {},
   "outputs": [],
   "source": [
    "f= open(\"mydict1.py\",\"r\")"
   ]
  },
  {
   "cell_type": "code",
   "execution_count": 67,
   "id": "d65dead2",
   "metadata": {},
   "outputs": [
    {
     "data": {
      "text/plain": [
       "'class parcing:\\n    def __init__(self,a):\\n        self.a= a \\n    def getkeys(self):\\n        if type(self.a)== dict:\\n            return list(self.a.keys())\\n    def getvalues(self):\\n        if type(self.a)== dict:\\n            return list(self.a.values())\\n    def notdict(self):\\n        if type(self.a)!= dict:\\n            raise Exception(self.a,\"not dictinary\")\\n        return 1'"
      ]
     },
     "execution_count": 67,
     "metadata": {},
     "output_type": "execute_result"
    }
   ],
   "source": [
    "f.read()"
   ]
  },
  {
   "cell_type": "code",
   "execution_count": 68,
   "id": "807cc7d9",
   "metadata": {},
   "outputs": [
    {
     "ename": "TypeError",
     "evalue": "'bool' object is not callable",
     "output_type": "error",
     "traceback": [
      "\u001b[1;31m---------------------------------------------------------------------------\u001b[0m",
      "\u001b[1;31mTypeError\u001b[0m                                 Traceback (most recent call last)",
      "Cell \u001b[1;32mIn[68], line 1\u001b[0m\n\u001b[1;32m----> 1\u001b[0m f\u001b[38;5;241m.\u001b[39mclosed()\n",
      "\u001b[1;31mTypeError\u001b[0m: 'bool' object is not callable"
     ]
    }
   ],
   "source": [
    "f.closed()"
   ]
  },
  {
   "cell_type": "code",
   "execution_count": 70,
   "id": "cd69bb26",
   "metadata": {},
   "outputs": [],
   "source": [
    "f.close()"
   ]
  },
  {
   "cell_type": "code",
   "execution_count": 71,
   "id": "234ada96",
   "metadata": {},
   "outputs": [
    {
     "ename": "ModuleNotFoundError",
     "evalue": "No module named 'parsing'",
     "output_type": "error",
     "traceback": [
      "\u001b[1;31m---------------------------------------------------------------------------\u001b[0m",
      "\u001b[1;31mModuleNotFoundError\u001b[0m                       Traceback (most recent call last)",
      "Cell \u001b[1;32mIn[71], line 1\u001b[0m\n\u001b[1;32m----> 1\u001b[0m \u001b[38;5;28;01mimport\u001b[39;00m \u001b[38;5;21;01mparsing\u001b[39;00m\n",
      "\u001b[1;31mModuleNotFoundError\u001b[0m: No module named 'parsing'"
     ]
    }
   ],
   "source": [
    "import parsing"
   ]
  },
  {
   "cell_type": "code",
   "execution_count": 72,
   "id": "64163647",
   "metadata": {},
   "outputs": [],
   "source": [
    "import mydict1"
   ]
  },
  {
   "cell_type": "code",
   "execution_count": 73,
   "id": "15f3046d",
   "metadata": {},
   "outputs": [
    {
     "ename": "ImportError",
     "evalue": "cannot import name 'getkeys' from 'mydict1' (C:\\Users\\INTEGRAL COMPUTER\\Documents\\mydict1.py)",
     "output_type": "error",
     "traceback": [
      "\u001b[1;31m---------------------------------------------------------------------------\u001b[0m",
      "\u001b[1;31mImportError\u001b[0m                               Traceback (most recent call last)",
      "Cell \u001b[1;32mIn[73], line 1\u001b[0m\n\u001b[1;32m----> 1\u001b[0m \u001b[38;5;28;01mfrom\u001b[39;00m \u001b[38;5;21;01mmydict1\u001b[39;00m \u001b[38;5;28;01mimport\u001b[39;00m getkeys\n",
      "\u001b[1;31mImportError\u001b[0m: cannot import name 'getkeys' from 'mydict1' (C:\\Users\\INTEGRAL COMPUTER\\Documents\\mydict1.py)"
     ]
    }
   ],
   "source": [
    "from mydict1 import getkeys"
   ]
  },
  {
   "cell_type": "code",
   "execution_count": 74,
   "id": "a865a77a",
   "metadata": {},
   "outputs": [
    {
     "data": {
      "text/plain": [
       "mydict1.parcing"
      ]
     },
     "execution_count": 74,
     "metadata": {},
     "output_type": "execute_result"
    }
   ],
   "source": [
    "mydict1.parcing"
   ]
  },
  {
   "cell_type": "code",
   "execution_count": 77,
   "id": "edaa7088",
   "metadata": {},
   "outputs": [],
   "source": [
    "d= {\"a\": 14,\"b\":\"shubham\"}"
   ]
  },
  {
   "cell_type": "code",
   "execution_count": 78,
   "id": "5056146b",
   "metadata": {},
   "outputs": [
    {
     "ename": "AttributeError",
     "evalue": "'dict' object has no attribute 'a'",
     "output_type": "error",
     "traceback": [
      "\u001b[1;31m---------------------------------------------------------------------------\u001b[0m",
      "\u001b[1;31mAttributeError\u001b[0m                            Traceback (most recent call last)",
      "Cell \u001b[1;32mIn[78], line 1\u001b[0m\n\u001b[1;32m----> 1\u001b[0m mydict1\u001b[38;5;241m.\u001b[39mparcing\u001b[38;5;241m.\u001b[39mgetkeys(d)\n",
      "File \u001b[1;32m~\\Documents\\mydict1.py:5\u001b[0m, in \u001b[0;36mparcing.getkeys\u001b[1;34m(self)\u001b[0m\n\u001b[0;32m      4\u001b[0m \u001b[38;5;28;01mdef\u001b[39;00m \u001b[38;5;21mgetkeys\u001b[39m(\u001b[38;5;28mself\u001b[39m):\n\u001b[1;32m----> 5\u001b[0m     \u001b[38;5;28;01mif\u001b[39;00m \u001b[38;5;28mtype\u001b[39m(\u001b[38;5;28mself\u001b[39m\u001b[38;5;241m.\u001b[39ma)\u001b[38;5;241m==\u001b[39m \u001b[38;5;28mdict\u001b[39m:\n\u001b[0;32m      6\u001b[0m         \u001b[38;5;28;01mreturn\u001b[39;00m \u001b[38;5;28mlist\u001b[39m(\u001b[38;5;28mself\u001b[39m\u001b[38;5;241m.\u001b[39ma\u001b[38;5;241m.\u001b[39mkeys())\n",
      "\u001b[1;31mAttributeError\u001b[0m: 'dict' object has no attribute 'a'"
     ]
    }
   ],
   "source": [
    "mydict1.parcing.getkeys(d)"
   ]
  },
  {
   "cell_type": "code",
   "execution_count": 79,
   "id": "aac203c5",
   "metadata": {},
   "outputs": [],
   "source": [
    "d = mydict1.parcing({\"a\":\"shubh\", \"b\":14})"
   ]
  },
  {
   "cell_type": "code",
   "execution_count": 81,
   "id": "75585b35",
   "metadata": {},
   "outputs": [
    {
     "data": {
      "text/plain": [
       "['shubh', 14]"
      ]
     },
     "execution_count": 81,
     "metadata": {},
     "output_type": "execute_result"
    }
   ],
   "source": [
    "d.getvalues()"
   ]
  },
  {
   "cell_type": "code",
   "execution_count": 82,
   "id": "e6f2a5fa",
   "metadata": {},
   "outputs": [],
   "source": [
    "l = [1,32,2,4,5,6]"
   ]
  },
  {
   "cell_type": "code",
   "execution_count": null,
   "id": "44d1b5bc",
   "metadata": {},
   "outputs": [],
   "source": [
    "l."
   ]
  },
  {
   "cell_type": "code",
   "execution_count": null,
   "id": "4b943b14",
   "metadata": {},
   "outputs": [],
   "source": []
  },
  {
   "cell_type": "code",
   "execution_count": null,
   "id": "3567f74a",
   "metadata": {},
   "outputs": [],
   "source": []
  },
  {
   "cell_type": "code",
   "execution_count": null,
   "id": "9b91c864",
   "metadata": {},
   "outputs": [],
   "source": [
    "class list_parsing :\n",
    "    def __init__(self, a):\n",
    "        self.a = a \n",
    "    def"
   ]
  },
  {
   "cell_type": "code",
   "execution_count": 1,
   "id": "95b30e72",
   "metadata": {},
   "outputs": [],
   "source": [
    "class xyz :\n",
    "    def __init__(self,a,b,c):\n",
    "        self.a= a\n",
    "        self.b= b\n",
    "        self.c = c\n",
    "    def test(self):\n",
    "        print(\"this is my 1st test method for xyz class\")\n",
    "    def test1(self):\n",
    "        print(\"this is my test1 method for xyz class\")\n",
    "    def test2(self):\n",
    "        print(\"this is my test2 method for xyz class\")"
   ]
  },
  {
   "cell_type": "code",
   "execution_count": 2,
   "id": "cc2b8fb6",
   "metadata": {},
   "outputs": [],
   "source": [
    "p = xyz(1,4,5)"
   ]
  },
  {
   "cell_type": "code",
   "execution_count": 3,
   "id": "277a0790",
   "metadata": {},
   "outputs": [
    {
     "data": {
      "text/plain": [
       "1"
      ]
     },
     "execution_count": 3,
     "metadata": {},
     "output_type": "execute_result"
    }
   ],
   "source": [
    "p.a"
   ]
  },
  {
   "cell_type": "code",
   "execution_count": 4,
   "id": "a59c22cf",
   "metadata": {},
   "outputs": [
    {
     "data": {
      "text/plain": [
       "4"
      ]
     },
     "execution_count": 4,
     "metadata": {},
     "output_type": "execute_result"
    }
   ],
   "source": [
    "p.b"
   ]
  },
  {
   "cell_type": "code",
   "execution_count": 6,
   "id": "12916ffd",
   "metadata": {},
   "outputs": [
    {
     "name": "stdout",
     "output_type": "stream",
     "text": [
      "this is my 1st test method for xyz class\n"
     ]
    }
   ],
   "source": [
    "p.test()"
   ]
  },
  {
   "cell_type": "code",
   "execution_count": 7,
   "id": "1802e7ba",
   "metadata": {},
   "outputs": [],
   "source": [
    "class xyz1(xyz):\n",
    "    pass\n"
   ]
  },
  {
   "cell_type": "code",
   "execution_count": 9,
   "id": "07870c95",
   "metadata": {},
   "outputs": [],
   "source": [
    "q = xyz1(7,8,9)"
   ]
  },
  {
   "cell_type": "code",
   "execution_count": 10,
   "id": "090d3645",
   "metadata": {},
   "outputs": [
    {
     "name": "stdout",
     "output_type": "stream",
     "text": [
      "this is my test2 method for xyz class\n"
     ]
    }
   ],
   "source": [
    "q.test2()"
   ]
  },
  {
   "cell_type": "code",
   "execution_count": 1,
   "id": "eca391bc",
   "metadata": {},
   "outputs": [],
   "source": [
    "class xyz :\n",
    "    def __init__(self,a,b,c):\n",
    "        self.a= a\n",
    "        self.b=b\n",
    "        self.c=c\n",
    "    def test(self):\n",
    "        print(\"this is my 1st method of xyz class\")\n",
    "\n",
    "class xyz1:\n",
    "    def __init__(self,p,q,r):\n",
    "        self.p=p\n",
    "        self.q=q\n",
    "        self.r=r\n",
    "    def test1(self):\n",
    "        print(\"this is my 2nd method of xyz1 class\")\n",
    "        \n",
    "class child(xyz,xyz1):\n",
    "    def __init__(self,*args,**kwargs):\n",
    "        xyz.__init__(self,*args)\n",
    "        xyz1.__init__(self,**kwargs)"
   ]
  },
  {
   "cell_type": "code",
   "execution_count": 2,
   "id": "0c085b00",
   "metadata": {
    "scrolled": true
   },
   "outputs": [],
   "source": [
    "n= child(1,2,3,p=9,q=8,r=7)"
   ]
  },
  {
   "cell_type": "code",
   "execution_count": 3,
   "id": "f95b538f",
   "metadata": {},
   "outputs": [
    {
     "data": {
      "text/plain": [
       "1"
      ]
     },
     "execution_count": 3,
     "metadata": {},
     "output_type": "execute_result"
    }
   ],
   "source": [
    "n.a"
   ]
  },
  {
   "cell_type": "code",
   "execution_count": 4,
   "id": "c038db5d",
   "metadata": {},
   "outputs": [
    {
     "data": {
      "text/plain": [
       "9"
      ]
     },
     "execution_count": 4,
     "metadata": {},
     "output_type": "execute_result"
    }
   ],
   "source": [
    "n.p"
   ]
  },
  {
   "cell_type": "code",
   "execution_count": 12,
   "id": "08b0d0d2",
   "metadata": {},
   "outputs": [],
   "source": [
    "import logging\n",
    "\n",
    "\n",
    "logging.basicConfig(filename =\"shubh.txt\", level=logging.DEBUG, format=\"%(asctime)s %(levelname)s %(message)s\",filemode=\"w\")\n",
    "\n",
    "class file:\n",
    "    def __init__(self, filename):\n",
    "        logging.info(\"creating file instance variable\")\n",
    "        self.file = filename\n",
    "    def read(self):\n",
    "        try:\n",
    "            open(\"self.file.txt\", \"r\") \n",
    "            data=  self.file.read()\n",
    "            return data\n",
    "        except Exception as e:\n",
    "            logging.error(\"occured error\")\n",
    "            logging.exception(e, \"this error occurd\")\n",
    "    \n",
    "    def write(self,data):\n",
    "        logging.info(\"execute write mode\")\n",
    "        try:\n",
    "            open(\"self.file.txt\", \"w\")\n",
    "            data=  self.file.write(data)\n",
    "        except Exception as e :\n",
    "            logging.error(\"error ocured\")\n",
    "            logging.exception(e, \"this error ocured\")"
   ]
  },
  {
   "cell_type": "code",
   "execution_count": 9,
   "id": "6b368e0e",
   "metadata": {},
   "outputs": [],
   "source": [
    "class test:\n",
    "    def __init__(self,a,b,c):\n",
    "        self.a= a\n",
    "        self.b=b\n",
    "        self.c=c\n",
    "class test1(test):\n",
    "    pass\n",
    "\n",
    "u= test(1,3,4)"
   ]
  },
  {
   "cell_type": "code",
   "execution_count": 6,
   "id": "c9e34add",
   "metadata": {},
   "outputs": [
    {
     "data": {
      "text/plain": [
       "1"
      ]
     },
     "execution_count": 6,
     "metadata": {},
     "output_type": "execute_result"
    }
   ],
   "source": [
    "u.a"
   ]
  },
  {
   "cell_type": "code",
   "execution_count": 10,
   "id": "86c8e676",
   "metadata": {},
   "outputs": [],
   "source": [
    "v= test1(9,8,7)"
   ]
  },
  {
   "cell_type": "code",
   "execution_count": 11,
   "id": "86dff5f9",
   "metadata": {},
   "outputs": [
    {
     "data": {
      "text/plain": [
       "9"
      ]
     },
     "execution_count": 11,
     "metadata": {},
     "output_type": "execute_result"
    }
   ],
   "source": [
    "v.a"
   ]
  },
  {
   "cell_type": "code",
   "execution_count": 12,
   "id": "9ce627ab",
   "metadata": {},
   "outputs": [],
   "source": [
    "class test:\n",
    "    def __init__(self):\n",
    "        self.a= 4\n",
    "        \n",
    "class test1(test):\n",
    "    pass\n",
    "\n",
    "\n",
    "\n",
    "u = test()"
   ]
  },
  {
   "cell_type": "code",
   "execution_count": 13,
   "id": "5bcc31bc",
   "metadata": {},
   "outputs": [
    {
     "data": {
      "text/plain": [
       "<__main__.test at 0x1ea6b133910>"
      ]
     },
     "execution_count": 13,
     "metadata": {},
     "output_type": "execute_result"
    }
   ],
   "source": [
    "u"
   ]
  },
  {
   "cell_type": "code",
   "execution_count": 14,
   "id": "86d0fa42",
   "metadata": {},
   "outputs": [
    {
     "data": {
      "text/plain": [
       "4"
      ]
     },
     "execution_count": 14,
     "metadata": {},
     "output_type": "execute_result"
    }
   ],
   "source": [
    "u.a"
   ]
  },
  {
   "cell_type": "code",
   "execution_count": 16,
   "id": "80321dc5",
   "metadata": {},
   "outputs": [],
   "source": [
    "v=test1()"
   ]
  },
  {
   "cell_type": "code",
   "execution_count": 17,
   "id": "8e5a36d2",
   "metadata": {},
   "outputs": [
    {
     "data": {
      "text/plain": [
       "4"
      ]
     },
     "execution_count": 17,
     "metadata": {},
     "output_type": "execute_result"
    }
   ],
   "source": [
    "v.a"
   ]
  },
  {
   "cell_type": "code",
   "execution_count": 19,
   "id": "c3746c44",
   "metadata": {},
   "outputs": [],
   "source": [
    "class test :\n",
    "    def __init__(self):\n",
    "        self.a= 5\n",
    "        \n",
    "class test1(test):\n",
    "    def __init__(self):\n",
    "        self.a= 7\n",
    "    \n",
    "u = test()"
   ]
  },
  {
   "cell_type": "code",
   "execution_count": 20,
   "id": "355e5138",
   "metadata": {},
   "outputs": [
    {
     "data": {
      "text/plain": [
       "5"
      ]
     },
     "execution_count": 20,
     "metadata": {},
     "output_type": "execute_result"
    }
   ],
   "source": [
    "u.a"
   ]
  },
  {
   "cell_type": "code",
   "execution_count": 21,
   "id": "3aefc9ef",
   "metadata": {},
   "outputs": [],
   "source": [
    "v=test1()"
   ]
  },
  {
   "cell_type": "code",
   "execution_count": 22,
   "id": "4d3cf5b4",
   "metadata": {},
   "outputs": [
    {
     "data": {
      "text/plain": [
       "7"
      ]
     },
     "execution_count": 22,
     "metadata": {},
     "output_type": "execute_result"
    }
   ],
   "source": [
    "v.a"
   ]
  },
  {
   "cell_type": "code",
   "execution_count": 24,
   "id": "7f3ada4a",
   "metadata": {},
   "outputs": [],
   "source": [
    "class test :\n",
    "    def __init__(self, a,b,c):\n",
    "        self._a= a\n",
    "        self.__b= b\n",
    "        self.c = c\n",
    "v=test(1,2,3)"
   ]
  },
  {
   "cell_type": "code",
   "execution_count": 26,
   "id": "a6691e96",
   "metadata": {},
   "outputs": [
    {
     "data": {
      "text/plain": [
       "1"
      ]
     },
     "execution_count": 26,
     "metadata": {},
     "output_type": "execute_result"
    }
   ],
   "source": [
    "v._a"
   ]
  },
  {
   "cell_type": "code",
   "execution_count": 27,
   "id": "1915ff28",
   "metadata": {},
   "outputs": [
    {
     "ename": "AttributeError",
     "evalue": "'test' object has no attribute '__b'",
     "output_type": "error",
     "traceback": [
      "\u001b[1;31m---------------------------------------------------------------------------\u001b[0m",
      "\u001b[1;31mAttributeError\u001b[0m                            Traceback (most recent call last)",
      "Cell \u001b[1;32mIn[27], line 1\u001b[0m\n\u001b[1;32m----> 1\u001b[0m v\u001b[38;5;241m.\u001b[39m__b\n",
      "\u001b[1;31mAttributeError\u001b[0m: 'test' object has no attribute '__b'"
     ]
    }
   ],
   "source": [
    "v.__b"
   ]
  },
  {
   "cell_type": "code",
   "execution_count": 28,
   "id": "54c3a080",
   "metadata": {},
   "outputs": [
    {
     "data": {
      "text/plain": [
       "2"
      ]
     },
     "execution_count": 28,
     "metadata": {},
     "output_type": "execute_result"
    }
   ],
   "source": [
    "v._test__b"
   ]
  },
  {
   "cell_type": "code",
   "execution_count": 29,
   "id": "f2f11520",
   "metadata": {},
   "outputs": [
    {
     "data": {
      "text/plain": [
       "3"
      ]
     },
     "execution_count": 29,
     "metadata": {},
     "output_type": "execute_result"
    }
   ],
   "source": [
    "v.c"
   ]
  },
  {
   "cell_type": "code",
   "execution_count": 36,
   "id": "95df1a2b",
   "metadata": {},
   "outputs": [],
   "source": [
    "class test:\n",
    "    def __init__(self,a,b,c):\n",
    "        self._a=a\n",
    "        self.__b=b\n",
    "        self.c=c\n",
    "        \n",
    "class test1(test):\n",
    "    pass\n",
    "\n",
    "u = test(4,5,6)"
   ]
  },
  {
   "cell_type": "code",
   "execution_count": 37,
   "id": "8a705813",
   "metadata": {},
   "outputs": [
    {
     "data": {
      "text/plain": [
       "6"
      ]
     },
     "execution_count": 37,
     "metadata": {},
     "output_type": "execute_result"
    }
   ],
   "source": [
    "u.c"
   ]
  },
  {
   "cell_type": "code",
   "execution_count": 38,
   "id": "049e2b84",
   "metadata": {},
   "outputs": [
    {
     "data": {
      "text/plain": [
       "4"
      ]
     },
     "execution_count": 38,
     "metadata": {},
     "output_type": "execute_result"
    }
   ],
   "source": [
    "u._a"
   ]
  },
  {
   "cell_type": "code",
   "execution_count": 39,
   "id": "1b1e1263",
   "metadata": {},
   "outputs": [
    {
     "data": {
      "text/plain": [
       "5"
      ]
     },
     "execution_count": 39,
     "metadata": {},
     "output_type": "execute_result"
    }
   ],
   "source": [
    "u._test__b"
   ]
  },
  {
   "cell_type": "code",
   "execution_count": 40,
   "id": "6d747767",
   "metadata": {},
   "outputs": [],
   "source": [
    "v=  test1(1,9,8)"
   ]
  },
  {
   "cell_type": "code",
   "execution_count": 41,
   "id": "f017fe5b",
   "metadata": {},
   "outputs": [
    {
     "data": {
      "text/plain": [
       "8"
      ]
     },
     "execution_count": 41,
     "metadata": {},
     "output_type": "execute_result"
    }
   ],
   "source": [
    "v.c"
   ]
  },
  {
   "cell_type": "code",
   "execution_count": 42,
   "id": "a03eeeaa",
   "metadata": {},
   "outputs": [
    {
     "data": {
      "text/plain": [
       "1"
      ]
     },
     "execution_count": 42,
     "metadata": {},
     "output_type": "execute_result"
    }
   ],
   "source": [
    "v._a"
   ]
  },
  {
   "cell_type": "code",
   "execution_count": 43,
   "id": "39687fd8",
   "metadata": {},
   "outputs": [
    {
     "ename": "AttributeError",
     "evalue": "'test1' object has no attribute '_test1__b'",
     "output_type": "error",
     "traceback": [
      "\u001b[1;31m---------------------------------------------------------------------------\u001b[0m",
      "\u001b[1;31mAttributeError\u001b[0m                            Traceback (most recent call last)",
      "Cell \u001b[1;32mIn[43], line 1\u001b[0m\n\u001b[1;32m----> 1\u001b[0m v\u001b[38;5;241m.\u001b[39m_test1__b\n",
      "\u001b[1;31mAttributeError\u001b[0m: 'test1' object has no attribute '_test1__b'"
     ]
    }
   ],
   "source": [
    "v._test1__b"
   ]
  },
  {
   "cell_type": "code",
   "execution_count": 44,
   "id": "da82d7ae",
   "metadata": {},
   "outputs": [
    {
     "data": {
      "text/plain": [
       "9"
      ]
     },
     "execution_count": 44,
     "metadata": {},
     "output_type": "execute_result"
    }
   ],
   "source": [
    "v._test__b"
   ]
  },
  {
   "cell_type": "code",
   "execution_count": 7,
   "id": "7d630e80",
   "metadata": {},
   "outputs": [],
   "source": [
    " class bonuscalculator :\n",
    "        def __init__(self,empid,empidrating):\n",
    "            self.empid = empid\n",
    "            self.empidrating = empidrating\n",
    "            self.bonusforatingA =\"70%\"\n",
    "            self.bonusforatingB = \"60%\"\n",
    "            self.bonusforatingC = \"40%\"\n",
    "        def bonuscalculator(self):\n",
    "            if self.empidrating == \"A\" :\n",
    "                bonus = self.bonusforatingA\n",
    "                return bonus\n",
    "            elif self.empidrating == \"B\":\n",
    "                bonus= self.bonusforatingB\n",
    "                return bonus\n",
    "            else :\n",
    "                bonus = self.bonusforatingC\n",
    "                return bonus"
   ]
  },
  {
   "cell_type": "code",
   "execution_count": 8,
   "id": "aabeeb02",
   "metadata": {},
   "outputs": [],
   "source": [
    "emp1 = bonuscalculator(358, \"A\")\n",
    "emp2 = bonuscalculator(768,\"B\")\n",
    "emp3=bonuscalculator(102,\"C\")"
   ]
  },
  {
   "cell_type": "code",
   "execution_count": 9,
   "id": "947fedc9",
   "metadata": {},
   "outputs": [
    {
     "data": {
      "text/plain": [
       "'70%'"
      ]
     },
     "execution_count": 9,
     "metadata": {},
     "output_type": "execute_result"
    }
   ],
   "source": [
    "emp1.bonusforatingA"
   ]
  },
  {
   "cell_type": "code",
   "execution_count": 10,
   "id": "65888b2b",
   "metadata": {},
   "outputs": [
    {
     "data": {
      "text/plain": [
       "358"
      ]
     },
     "execution_count": 10,
     "metadata": {},
     "output_type": "execute_result"
    }
   ],
   "source": [
    " emp1.empid"
   ]
  },
  {
   "cell_type": "code",
   "execution_count": 12,
   "id": "e9d86d64",
   "metadata": {},
   "outputs": [
    {
     "data": {
      "text/plain": [
       "'70%'"
      ]
     },
     "execution_count": 12,
     "metadata": {},
     "output_type": "execute_result"
    }
   ],
   "source": [
    "emp1.bonuscalculator()"
   ]
  },
  {
   "cell_type": "code",
   "execution_count": 14,
   "id": "1e045e7b",
   "metadata": {},
   "outputs": [
    {
     "data": {
      "text/plain": [
       "'60%'"
      ]
     },
     "execution_count": 14,
     "metadata": {},
     "output_type": "execute_result"
    }
   ],
   "source": [
    "emp2.bonuscalculator()"
   ]
  },
  {
   "cell_type": "code",
   "execution_count": 15,
   "id": "291752ea",
   "metadata": {},
   "outputs": [],
   "source": [
    "pi_string = \"66.24596\""
   ]
  },
  {
   "cell_type": "code",
   "execution_count": 17,
   "id": "c130e756",
   "metadata": {},
   "outputs": [
    {
     "ename": "NameError",
     "evalue": "name 'pi_float' is not defined",
     "output_type": "error",
     "traceback": [
      "\u001b[1;31m---------------------------------------------------------------------------\u001b[0m",
      "\u001b[1;31mNameError\u001b[0m                                 Traceback (most recent call last)",
      "Cell \u001b[1;32mIn[17], line 1\u001b[0m\n\u001b[1;32m----> 1\u001b[0m pi_string \u001b[38;5;241m==\u001b[39m pi_float\n",
      "\u001b[1;31mNameError\u001b[0m: name 'pi_float' is not defined"
     ]
    }
   ],
   "source": [
    "pi_string == pi_float"
   ]
  },
  {
   "cell_type": "code",
   "execution_count": null,
   "id": "72092e58",
   "metadata": {},
   "outputs": [],
   "source": []
  }
 ],
 "metadata": {
  "kernelspec": {
   "display_name": "Python 3 (ipykernel)",
   "language": "python",
   "name": "python3"
  },
  "language_info": {
   "codemirror_mode": {
    "name": "ipython",
    "version": 3
   },
   "file_extension": ".py",
   "mimetype": "text/x-python",
   "name": "python",
   "nbconvert_exporter": "python",
   "pygments_lexer": "ipython3",
   "version": "3.11.5"
  }
 },
 "nbformat": 4,
 "nbformat_minor": 5
}
